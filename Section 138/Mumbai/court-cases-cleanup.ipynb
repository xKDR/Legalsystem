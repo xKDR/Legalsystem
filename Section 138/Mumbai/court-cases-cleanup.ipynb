{
 "cells": [
  {
   "cell_type": "code",
   "execution_count": 6,
   "metadata": {},
   "outputs": [
    {
     "name": "stdout",
     "output_type": "stream",
     "text": [
      "2023-06-26 06:56:56.800405 \t processing Additional Metropolitan Magistrate, Bhoiwada, Dadar, Mumbai\n",
      "2023-06-26 06:56:57.630472 \t processing Additional Metropolitan Magistrate, Borivali, Mumbai\n",
      "2023-06-26 06:56:58.275618 \t processing Additional Metropolitan Magistrate, Bandra, Mumbai\n",
      "2023-06-26 06:56:58.617987 \t processing Additional Metropolitan Magistrate, Ballardpier, Mumbai\n",
      "2023-06-26 06:56:59.485089 \t processing Additional Metropolitan Magistrate, Girgaon, Mumbai\n",
      "2023-06-26 06:56:59.952354 \t processing Metropolitan Magistrate, Andheri, Mumbai\n",
      "2023-06-26 06:57:00.478464 \t processing Additional Metropolitan Magistrate, Mazgaon, Mumbai\n",
      "2023-06-26 06:57:01.344645 \t processing Additional Metropolitan Magistrate, Vikroli, Mumbai\n",
      "2023-06-26 06:57:01.642255 \t processing Chief Metropolitan Magistrate, Esplanade Court, Mumbai\n",
      "2023-06-26 06:57:02.121287 \t processing Metropolitan Magistrate, Mulund, Mumbai\n",
      "2023-06-26 06:57:02.380242 \t processing Additional Metropolitan Magistrate, Kurla, Mumbai\n",
      "2023-06-26 06:57:57.035941 \t processing Additional Metropolitan Magistrate, Bhoiwada, Dadar, Mumbai\n",
      "2023-06-26 06:57:57.657724 \t processing Additional Metropolitan Magistrate, Borivali, Mumbai\n",
      "2023-06-26 06:57:59.684384 \t processing Additional Metropolitan Magistrate, Bandra, Mumbai\n",
      "2023-06-26 06:58:01.971844 \t processing Additional Metropolitan Magistrate, Ballardpier, Mumbai\n",
      "2023-06-26 06:58:03.771657 \t processing Additional Metropolitan Magistrate, Girgaon, Mumbai\n",
      "2023-06-26 06:58:04.576366 \t processing Metropolitan Magistrate, Andheri, Mumbai\n",
      "2023-06-26 06:58:04.699185 \t processing Additional Metropolitan Magistrate, Vikroli, Mumbai\n",
      "2023-06-26 06:58:06.188322 \t processing Chief Metropolitan Magistrate, Esplanade Court, Mumbai\n",
      "2023-06-26 06:58:08.520107 \t processing Metropolitan Magistrate, Mulund, Mumbai\n",
      "2023-06-26 06:58:09.017994 \t processing Additional Metropolitan Magistrate, Kurla, Mumbai\n",
      "2023-06-26 06:58:09.340745 \t processing Additional Metropolitan Magistrate, Mazgaon, Mumbai\n"
     ]
    }
   ],
   "source": [
    "from bs4 import BeautifulSoup\n",
    "import pandas as pd\n",
    "from datetime import datetime\n",
    "\n",
    "def process_cases(htmlfile, case_status):\n",
    "    with open(htmlfile, 'r') as f:\n",
    "        htmlcontent = f.read()\n",
    "\n",
    "    soup = BeautifulSoup(htmlcontent, 'lxml')\n",
    "\n",
    "    tables = soup.find_all('table', {'id': 'dispTable'})\n",
    "\n",
    "    data = []\n",
    "    output_case_sr = 1\n",
    "\n",
    "    for table in tables:\n",
    "        court_name = table.find('td', {'colspan': '3'}).text.strip()\n",
    "        print(datetime.now(), '\\t processing', court_name)\n",
    "\n",
    "        for case_row in table.find_all('tr', {'class': None}):\n",
    "            if len(case_row.find_all('td')) == 4:\n",
    "                sr_no = case_row.find_all('td')[0].text.strip()\n",
    "                case_number = case_row.find_all('td')[1].text.strip()\n",
    "\n",
    "                parties = case_row.find_all('td')[2].text.strip().split('Vs')\n",
    "                petitioner = parties[0].strip()\n",
    "                respondent = parties[1].strip()\n",
    "\n",
    "                case_id = case_row.find('a', {'class': 'someclass'})['onclick'].split(',')[1].strip(\"'\")\n",
    "\n",
    "                output = [output_case_sr, court_name, sr_no, case_number, petitioner, respondent, case_id]\n",
    "                output_case_sr += 1\n",
    "                data.append(output)\n",
    "    # Save the data to a pandas DataFrame\n",
    "    df = pd.DataFrame(data, columns=['Case Sr', 'Court Name', 'Sr No', 'Case Number', 'Petitioner', 'Respondent', 'Case ID'])\n",
    "    df['Case Status'] = case_status\n",
    "    \n",
    "    # Save the DataFrame to the destination CSV file\n",
    "    df.to_csv(f'{case_status}-cases-mumbai.csv', index=False, encoding='utf-8')\n",
    "\n",
    "# Call function for pending cases\n",
    "process_cases('mumbai-pending-cases-all.txt', 'pending')\n",
    "\n",
    "# Call function for disposed cases\n",
    "process_cases('mumbai-disposed-cases-all.txt', 'disposed')\n"
   ]
  }
 ],
 "metadata": {
  "kernelspec": {
   "display_name": "Python 3",
   "language": "python",
   "name": "python3"
  },
  "language_info": {
   "codemirror_mode": {
    "name": "ipython",
    "version": 3
   },
   "file_extension": ".py",
   "mimetype": "text/x-python",
   "name": "python",
   "nbconvert_exporter": "python",
   "pygments_lexer": "ipython3",
   "version": "3.9.6"
  },
  "orig_nbformat": 4
 },
 "nbformat": 4,
 "nbformat_minor": 2
}
